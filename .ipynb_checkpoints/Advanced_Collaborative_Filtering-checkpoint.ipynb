{
 "cells": [
  {
   "cell_type": "code",
   "execution_count": 138,
   "id": "be552981",
   "metadata": {},
   "outputs": [],
   "source": [
    "import pandas as pd\n",
    "from pymongo import MongoClient\n",
    "from bson.son import SON\n",
    "from bson.code import Code\n",
    "import re\n",
    "import pprint\n",
    "\n",
    "\n",
    "client = MongoClient('localhost',27017)\n",
    "db = client.movie_lens"
   ]
  },
  {
   "cell_type": "code",
   "execution_count": 139,
   "id": "5bbb7954",
   "metadata": {},
   "outputs": [
    {
     "name": "stdout",
     "output_type": "stream",
     "text": [
      "['tags', 'links', 'movie_collector', 'genre_count', 'tag_count', 'genome_tags', 'movies', 'avg_ratings', 'ratings', 'genome_scores']\n"
     ]
    }
   ],
   "source": [
    "print(db.list_collection_names())"
   ]
  },
  {
   "cell_type": "code",
   "execution_count": 142,
   "id": "004c4db0",
   "metadata": {},
   "outputs": [],
   "source": [
    "def similarity(I,J):\n",
    "    intersection=db.ratings.aggregate([\n",
    "        {\n",
    "            '$match':{\n",
    "                '$or':[\n",
    "                    {'userId':I},\n",
    "                    {'userId':J}\n",
    "                ]\n",
    "            }\n",
    "        },\n",
    "        {\n",
    "            '$group':{\n",
    "                '_id':'$movieId',\n",
    "                'count':{'$sum':1}\n",
    "            }\n",
    "        },\n",
    "        {\n",
    "            '$match':{\n",
    "                'count':{'$eq':2}\n",
    "            }\n",
    "        }\n",
    "    ])\n",
    "    count=0\n",
    "    for i in intersection:\n",
    "        count+=1\n",
    "    return count\n"
   ]
  },
  {
   "cell_type": "code",
   "execution_count": 143,
   "id": "0ffa0c07",
   "metadata": {},
   "outputs": [
    {
     "data": {
      "text/plain": [
       "4"
      ]
     },
     "execution_count": 143,
     "metadata": {},
     "output_type": "execute_result"
    }
   ],
   "source": [
    "similarity(1,2)"
   ]
  },
  {
   "cell_type": "code",
   "execution_count": 144,
   "id": "ce21f8bb",
   "metadata": {},
   "outputs": [],
   "source": [
    "def dissimilarity(I,J):\n",
    "    union=db.ratings.aggregate([\n",
    "        {\n",
    "            '$match':{\n",
    "                '$or':[\n",
    "                    {'userId':I},\n",
    "                    {'userId':J}\n",
    "                ]\n",
    "            }\n",
    "        },\n",
    "        {\n",
    "            '$group':{\n",
    "                '_id':'$movieId',\n",
    "                'count':{'$sum':1}\n",
    "            }\n",
    "        }\n",
    "    ])\n",
    "    union_IJ=0\n",
    "    for i in union:\n",
    "        union_IJ+=1\n",
    "    \n",
    "    intersection=db.ratings.aggregate([\n",
    "        {\n",
    "            '$match':{\n",
    "                '$or':[\n",
    "                    {'userId':I},\n",
    "                    {'userId':J}\n",
    "                ]\n",
    "            }\n",
    "        },\n",
    "        {\n",
    "            '$group':{\n",
    "                '_id':'$movieId',\n",
    "                'count':{'$sum':1}\n",
    "            }\n",
    "        },\n",
    "        {\n",
    "            '$match':{\n",
    "                'count':{'$eq':2}\n",
    "            }\n",
    "        }\n",
    "    ])\n",
    "    intersection_IJ=0\n",
    "    for i in intersection:\n",
    "        intersection_IJ+=1\n",
    "    \n",
    "    return union_IJ-intersection_IJ"
   ]
  },
  {
   "cell_type": "code",
   "execution_count": 145,
   "id": "8fb4e9ab",
   "metadata": {},
   "outputs": [
    {
     "data": {
      "text/plain": [
       "246"
      ]
     },
     "execution_count": 145,
     "metadata": {},
     "output_type": "execute_result"
    }
   ],
   "source": [
    "dissimilarity(1,2)"
   ]
  },
  {
   "cell_type": "code",
   "execution_count": 26,
   "id": "ddd5d9b4",
   "metadata": {},
   "outputs": [],
   "source": [
    "m=162541"
   ]
  },
  {
   "cell_type": "markdown",
   "id": "8964ce5a",
   "metadata": {},
   "source": [
    "##### def summation_similarity_I(I):\n",
    "#####     summation=0\n",
    "#####     for i in range(1,m+1):\n",
    "#####         summation+=similarity(I,i)\n",
    "#####     return summation \n",
    "##### 무지성으로 코딩을하니 존나 오래걸렸다 mapreduce가 강제되는데 이걸 어캐하냐 "
   ]
  },
  {
   "cell_type": "code",
   "execution_count": 50,
   "id": "26084a7d",
   "metadata": {},
   "outputs": [],
   "source": [
    "mapper=Code('''\n",
    "    function() {\n",
    "        emit(this.movieId,1);\n",
    "    };\n",
    "''')"
   ]
  },
  {
   "cell_type": "code",
   "execution_count": 51,
   "id": "8cfa8a0e",
   "metadata": {},
   "outputs": [],
   "source": [
    "reducer=Code('''\n",
    "    function(key,values) {\n",
    "        var total=0;\n",
    "        for(var i=0;i<values.length;i++){\n",
    "            total+=values[i];\n",
    "        }\n",
    "        return total;\n",
    "    };\n",
    "''')"
   ]
  },
  {
   "cell_type": "code",
   "execution_count": 52,
   "id": "b448f8c8",
   "metadata": {},
   "outputs": [
    {
     "data": {
      "text/plain": [
       "Collection(Database(MongoClient(host=['localhost:27017'], document_class=dict, tz_aware=False, connect=True), 'movie_lens'), 'movie_collector')"
      ]
     },
     "execution_count": 52,
     "metadata": {},
     "output_type": "execute_result"
    }
   ],
   "source": [
    "db.ratings.map_reduce(mapper,reducer,'movie_collector')"
   ]
  },
  {
   "cell_type": "code",
   "execution_count": 146,
   "id": "0ff665eb",
   "metadata": {},
   "outputs": [],
   "source": [
    "def summation_similarity_I(I):\n",
    "    cur=db.ratings.aggregate([\n",
    "        {\n",
    "            '$match':{'userId':I}\n",
    "        },\n",
    "        {\n",
    "            '$lookup':{\n",
    "                'from':'movie_collector',\n",
    "                'localField':'movieId',\n",
    "                'foreignField':'_id',\n",
    "                'as':'counting'\n",
    "            }\n",
    "        },\n",
    "        {\n",
    "            '$project':{\n",
    "                'userId':1,\n",
    "                'movieId':1,\n",
    "                'counting':'$counting.value'          \n",
    "            }     \n",
    "        },\n",
    "        {\n",
    "            '$unwind':'$counting'\n",
    "        },\n",
    "        {\n",
    "            \"$group\": {\n",
    "                \"_id\": \"$userId\",\n",
    "                \"count\": {\n",
    "                    \"$sum\": '$counting'\n",
    "                }\n",
    "            }\n",
    "        }]\n",
    "    )\n",
    "    return list(cur)[0]['count']"
   ]
  },
  {
   "cell_type": "code",
   "execution_count": 149,
   "id": "96f6cde1",
   "metadata": {},
   "outputs": [],
   "source": [
    "def hat_similarity_IJ(I,J):\n",
    "    return similarity(I,J)/summation_similarity_I(I)"
   ]
  },
  {
   "cell_type": "code",
   "execution_count": 151,
   "id": "0e1126f2",
   "metadata": {},
   "outputs": [
    {
     "data": {
      "text/plain": [
       "1.829704419567857e-05"
      ]
     },
     "execution_count": 151,
     "metadata": {},
     "output_type": "execute_result"
    }
   ],
   "source": [
    "hat_similarity_IJ(1,3)"
   ]
  },
  {
   "cell_type": "code",
   "execution_count": 200,
   "id": "e8b4e0f4",
   "metadata": {},
   "outputs": [],
   "source": [
    "def gamma_I(I):    \n",
    "    cur=db.ratings.aggregate([\n",
    "        {\n",
    "            '$match':{'userId':I}\n",
    "        },\n",
    "        {\n",
    "            '$group':{\n",
    "                '_id':'$userId',\n",
    "                'count':{\n",
    "                    '$sum':1\n",
    "                }\n",
    "            }\n",
    "        }\n",
    "    ])\n",
    "    gamma_I=list(cur)[0]['count']\n",
    "    return gamma_I"
   ]
  },
  {
   "cell_type": "code",
   "execution_count": 201,
   "id": "5f45453a",
   "metadata": {},
   "outputs": [],
   "source": [
    "# def gamma_I(I):\n",
    "#     return db.ratings.find({'userId':1}).count()"
   ]
  },
  {
   "cell_type": "code",
   "execution_count": 202,
   "id": "19f6d16f",
   "metadata": {},
   "outputs": [],
   "source": [
    "x=gamma_I(1)"
   ]
  },
  {
   "cell_type": "code",
   "execution_count": 203,
   "id": "6096eb89",
   "metadata": {},
   "outputs": [
    {
     "name": "stdout",
     "output_type": "stream",
     "text": [
      "70\n"
     ]
    }
   ],
   "source": [
    "print(x)"
   ]
  },
  {
   "cell_type": "code",
   "execution_count": 217,
   "id": "3452b549",
   "metadata": {},
   "outputs": [],
   "source": [
    "cur=db.ratings.aggregate([\n",
    "    {\n",
    "        '$group':{\n",
    "            '_id':'$userId'\n",
    "        }\n",
    "    },\n",
    "    {\n",
    "        '$group':{\n",
    "            '_id':'null',\n",
    "            'count':{\n",
    "                '$sum':1\n",
    "            }\n",
    "        }\n",
    "    },\n",
    "    {\n",
    "        '$sort':{'_id':1}\n",
    "    }\n",
    "])\n",
    "num_users=list(cur)[0]['count']"
   ]
  },
  {
   "cell_type": "code",
   "execution_count": 220,
   "id": "e2f46e40",
   "metadata": {},
   "outputs": [
    {
     "name": "stdout",
     "output_type": "stream",
     "text": [
      "162541\n"
     ]
    }
   ],
   "source": [
    "print(num_users)"
   ]
  },
  {
   "cell_type": "code",
   "execution_count": 221,
   "id": "15b54679",
   "metadata": {},
   "outputs": [],
   "source": [
    "cur=db.ratings.aggregate([\n",
    "    {\n",
    "        '$group':{\n",
    "            '_id':'null',\n",
    "            'count':{\n",
    "                '$sum':1\n",
    "            }\n",
    "        }\n",
    "    }\n",
    "])\n",
    "num_ratings=list(cur)[0]['count']"
   ]
  },
  {
   "cell_type": "code",
   "execution_count": 222,
   "id": "0578da9d",
   "metadata": {},
   "outputs": [
    {
     "name": "stdout",
     "output_type": "stream",
     "text": [
      "25000095\n"
     ]
    }
   ],
   "source": [
    "print(num_ratings)"
   ]
  },
  {
   "cell_type": "code",
   "execution_count": 227,
   "id": "d70cb78e",
   "metadata": {},
   "outputs": [],
   "source": [
    "def summation_dissimilarity_I(I):\n",
    "    summation=0\n",
    "    summation+=(num_users*gamma_I(I))\n",
    "    summation+=num_ratings\n",
    "    summation-=(2*summation_similarity_I(I))\n",
    "    \n",
    "    return summation"
   ]
  },
  {
   "cell_type": "code",
   "execution_count": 231,
   "id": "46223d33",
   "metadata": {},
   "outputs": [
    {
     "data": {
      "text/plain": [
       "35175585.0"
      ]
     },
     "execution_count": 231,
     "metadata": {},
     "output_type": "execute_result"
    }
   ],
   "source": [
    "summation_dissimilarity_I(1)"
   ]
  },
  {
   "cell_type": "code",
   "execution_count": 229,
   "id": "4c5112e3",
   "metadata": {},
   "outputs": [],
   "source": [
    "def hat_dissimilarity_IJ(I,J):\n",
    "    return dissimilarity(I,J)/summation_dissimilarity_I(I)"
   ]
  },
  {
   "cell_type": "code",
   "execution_count": 230,
   "id": "7d11ed59",
   "metadata": {},
   "outputs": [
    {
     "data": {
      "text/plain": [
       "6.993487101920266e-06"
      ]
     },
     "execution_count": 230,
     "metadata": {},
     "output_type": "execute_result"
    }
   ],
   "source": [
    "hat_dissimilarity_IJ(1,2)"
   ]
  },
  {
   "cell_type": "code",
   "execution_count": null,
   "id": "e9c84638",
   "metadata": {},
   "outputs": [],
   "source": []
  }
 ],
 "metadata": {
  "kernelspec": {
   "display_name": "Python 3",
   "language": "python",
   "name": "python3"
  },
  "language_info": {
   "codemirror_mode": {
    "name": "ipython",
    "version": 3
   },
   "file_extension": ".py",
   "mimetype": "text/x-python",
   "name": "python",
   "nbconvert_exporter": "python",
   "pygments_lexer": "ipython3",
   "version": "3.8.8"
  }
 },
 "nbformat": 4,
 "nbformat_minor": 5
}
