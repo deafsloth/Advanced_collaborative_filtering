{
 "cells": [
  {
   "cell_type": "code",
   "execution_count": 1,
   "id": "45887243",
   "metadata": {},
   "outputs": [],
   "source": [
    "import pandas as pd\n",
    "from pymongo import MongoClient\n",
    "from bson.son import SON\n",
    "from bson.code import Code\n",
    "import re\n",
    "import pprint\n",
    "\n",
    "\n",
    "client = MongoClient('localhost',27017)\n",
    "db = client.movie_lens"
   ]
  },
  {
   "cell_type": "code",
   "execution_count": 2,
   "id": "e0f3f38b",
   "metadata": {},
   "outputs": [
    {
     "name": "stdout",
     "output_type": "stream",
     "text": [
      "['tags', 'links', 'genre_count', 'tag_count', 'genome_tags', 'movies', 'avg_ratings', 'ratings', 'genome_scores']\n"
     ]
    }
   ],
   "source": [
    "print(db.list_collection_names())"
   ]
  },
  {
   "cell_type": "code",
   "execution_count": 21,
   "id": "32d78850",
   "metadata": {},
   "outputs": [],
   "source": [
    "def similarity(I,J):\n",
    "    similarity=db.ratings.aggregate([\n",
    "        {\n",
    "            '$match':{\n",
    "                '$or':[\n",
    "                    {'userId':I},\n",
    "                    {'userId':J}\n",
    "                ]\n",
    "            }\n",
    "        },\n",
    "        {\n",
    "            '$group':{\n",
    "                '_id':'$movieId',\n",
    "                'count':{'$sum':1}\n",
    "            }\n",
    "        },\n",
    "        {\n",
    "            '$match':{\n",
    "                'count':{'$eq':2}\n",
    "            }\n",
    "        }\n",
    "    ])\n",
    "    count=0\n",
    "    for i in similarity:\n",
    "        count+=1\n",
    "    return count\n"
   ]
  },
  {
   "cell_type": "code",
   "execution_count": 22,
   "id": "a32d9ccd",
   "metadata": {},
   "outputs": [
    {
     "data": {
      "text/plain": [
       "4"
      ]
     },
     "execution_count": 22,
     "metadata": {},
     "output_type": "execute_result"
    }
   ],
   "source": [
    "similarity(1,2)"
   ]
  },
  {
   "cell_type": "code",
   "execution_count": 23,
   "id": "abaa227b",
   "metadata": {},
   "outputs": [],
   "source": [
    "def dissimilarity(I,J):\n",
    "    union=db.ratings.aggregate([\n",
    "        {\n",
    "            '$match':{\n",
    "                '$or':[\n",
    "                    {'userId':I},\n",
    "                    {'userId':J}\n",
    "                ]\n",
    "            }\n",
    "        },\n",
    "        {\n",
    "            '$group':{\n",
    "                '_id':'$movieId',\n",
    "                'count':{'$sum':1}\n",
    "            }\n",
    "        }\n",
    "    ])\n",
    "    union_IJ=0\n",
    "    for i in union:\n",
    "        union_IJ+=1\n",
    "    \n",
    "    intersection=db.ratings.aggregate([\n",
    "        {\n",
    "            '$match':{\n",
    "                '$or':[\n",
    "                    {'userId':I},\n",
    "                    {'userId':J}\n",
    "                ]\n",
    "            }\n",
    "        },\n",
    "        {\n",
    "            '$group':{\n",
    "                '_id':'$movieId',\n",
    "                'count':{'$sum':1}\n",
    "            }\n",
    "        },\n",
    "        {\n",
    "            '$match':{\n",
    "                'count':{'$eq':2}\n",
    "            }\n",
    "        }\n",
    "    ])\n",
    "    intersection_IJ=0\n",
    "    for i in intersection:\n",
    "        intersection_IJ+=1\n",
    "    \n",
    "    return union_IJ-intersection_IJ"
   ]
  },
  {
   "cell_type": "code",
   "execution_count": 24,
   "id": "06dd9c91",
   "metadata": {},
   "outputs": [
    {
     "data": {
      "text/plain": [
       "246"
      ]
     },
     "execution_count": 24,
     "metadata": {},
     "output_type": "execute_result"
    }
   ],
   "source": [
    "dissimilarity(1,2)"
   ]
  },
  {
   "cell_type": "code",
   "execution_count": 26,
   "id": "14d441d0",
   "metadata": {},
   "outputs": [],
   "source": [
    "m=162541"
   ]
  },
  {
   "cell_type": "markdown",
   "id": "f7548296",
   "metadata": {},
   "source": [
    "##### def summation_similarity_I(I):\n",
    "#####     summation=0\n",
    "#####     for i in range(1,m+1):\n",
    "#####         summation+=similarity(I,i)\n",
    "#####     return summation \n",
    "##### 무지성으로 코딩을하니 존나 오래걸렸다 mapreduce가 강제되는데 이걸 어캐하냐 "
   ]
  },
  {
   "cell_type": "code",
   "execution_count": 50,
   "id": "aff04f40",
   "metadata": {},
   "outputs": [],
   "source": [
    "mapper=Code('''\n",
    "    function() {\n",
    "        emit(this.movieId,1);\n",
    "    };\n",
    "''')"
   ]
  },
  {
   "cell_type": "code",
   "execution_count": 51,
   "id": "eefb81c6",
   "metadata": {},
   "outputs": [],
   "source": [
    "reducer=Code('''\n",
    "    function(key,values) {\n",
    "        var total=0;\n",
    "        for(var i=0;i<values.length;i++){\n",
    "            total+=values[i];\n",
    "        }\n",
    "        return total;\n",
    "    };\n",
    "''')"
   ]
  },
  {
   "cell_type": "code",
   "execution_count": 52,
   "id": "6a8f88eb",
   "metadata": {},
   "outputs": [
    {
     "data": {
      "text/plain": [
       "Collection(Database(MongoClient(host=['localhost:27017'], document_class=dict, tz_aware=False, connect=True), 'movie_lens'), 'movie_collector')"
      ]
     },
     "execution_count": 52,
     "metadata": {},
     "output_type": "execute_result"
    }
   ],
   "source": [
    "db.ratings.map_reduce(mapper,reducer,'movie_collector')"
   ]
  },
  {
   "cell_type": "code",
   "execution_count": 111,
   "id": "52b3d7c2",
   "metadata": {},
   "outputs": [],
   "source": [
    "cur=db.ratings.aggregate([\n",
    "    {\n",
    "        '$match':{'userId':1}\n",
    "    },\n",
    "    {\n",
    "        '$lookup':{\n",
    "            'from':'movie_collector',\n",
    "            'localField':'movieId',\n",
    "            'foreignField':'_id',\n",
    "            'as':'counting'\n",
    "        }\n",
    "    },\n",
    "    {\n",
    "        '$project':{\n",
    "            'userId':1,\n",
    "            'movieId':1,\n",
    "            'counting':'$counting.value'          \n",
    "        }     \n",
    "    },\n",
    "    {\n",
    "        '$unwind':'$counting'\n",
    "    },\n",
    "    {\"$group\": {\"_id\": \"$userId\", \"count\": {\"$sum\": '$counting'}}}\n",
    "\n",
    "#     {\n",
    "#         '$group':{\n",
    "#             '_id':'$userId',\n",
    "#             'sum':{'$sum':'$summation'}\n",
    "#         }\n",
    "#     }\n",
    "#     {\n",
    "#         '$unwind':'$counting'\n",
    "#     },\n",
    "\n",
    "])"
   ]
  },
  {
   "cell_type": "code",
   "execution_count": 112,
   "id": "d66c2e6e",
   "metadata": {},
   "outputs": [
    {
     "name": "stdout",
     "output_type": "stream",
     "text": [
      "{'_id': 1, 'count': 601190.0}\n"
     ]
    }
   ],
   "source": [
    "for i in cur:\n",
    "    print(i)"
   ]
  },
  {
   "cell_type": "code",
   "execution_count": null,
   "id": "fae4267b",
   "metadata": {},
   "outputs": [],
   "source": []
  }
 ],
 "metadata": {
  "kernelspec": {
   "display_name": "Python 3",
   "language": "python",
   "name": "python3"
  },
  "language_info": {
   "codemirror_mode": {
    "name": "ipython",
    "version": 3
   },
   "file_extension": ".py",
   "mimetype": "text/x-python",
   "name": "python",
   "nbconvert_exporter": "python",
   "pygments_lexer": "ipython3",
   "version": "3.8.8"
  }
 },
 "nbformat": 4,
 "nbformat_minor": 5
}
