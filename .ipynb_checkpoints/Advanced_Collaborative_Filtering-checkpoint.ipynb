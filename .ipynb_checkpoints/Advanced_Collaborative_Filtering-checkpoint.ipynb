{
 "cells": [
  {
   "cell_type": "code",
   "execution_count": 138,
   "id": "4c18b720",
   "metadata": {},
   "outputs": [],
   "source": [
    "import pandas as pd\n",
    "from pymongo import MongoClient\n",
    "from bson.son import SON\n",
    "from bson.code import Code\n",
    "import re\n",
    "import pprint\n",
    "\n",
    "\n",
    "client = MongoClient('localhost',27017)\n",
    "db = client.movie_lens"
   ]
  },
  {
   "cell_type": "code",
   "execution_count": 139,
   "id": "5f4483f6",
   "metadata": {},
   "outputs": [
    {
     "name": "stdout",
     "output_type": "stream",
     "text": [
      "['tags', 'links', 'movie_collector', 'genre_count', 'tag_count', 'genome_tags', 'movies', 'avg_ratings', 'ratings', 'genome_scores']\n"
     ]
    }
   ],
   "source": [
    "print(db.list_collection_names())"
   ]
  },
  {
   "cell_type": "code",
   "execution_count": 142,
   "id": "0bedcab8",
   "metadata": {},
   "outputs": [],
   "source": [
    "def similarity(I,J):\n",
    "    intersection=db.ratings.aggregate([\n",
    "        {\n",
    "            '$match':{\n",
    "                '$or':[\n",
    "                    {'userId':I},\n",
    "                    {'userId':J}\n",
    "                ]\n",
    "            }\n",
    "        },\n",
    "        {\n",
    "            '$group':{\n",
    "                '_id':'$movieId',\n",
    "                'count':{'$sum':1}\n",
    "            }\n",
    "        },\n",
    "        {\n",
    "            '$match':{\n",
    "                'count':{'$eq':2}\n",
    "            }\n",
    "        }\n",
    "    ])\n",
    "    count=0\n",
    "    for i in intersection:\n",
    "        count+=1\n",
    "    return count\n"
   ]
  },
  {
   "cell_type": "code",
   "execution_count": 143,
   "id": "19b26b84",
   "metadata": {},
   "outputs": [
    {
     "data": {
      "text/plain": [
       "4"
      ]
     },
     "execution_count": 143,
     "metadata": {},
     "output_type": "execute_result"
    }
   ],
   "source": [
    "similarity(1,2)"
   ]
  },
  {
   "cell_type": "code",
   "execution_count": 144,
   "id": "04faf1b2",
   "metadata": {},
   "outputs": [],
   "source": [
    "def dissimilarity(I,J):\n",
    "    union=db.ratings.aggregate([\n",
    "        {\n",
    "            '$match':{\n",
    "                '$or':[\n",
    "                    {'userId':I},\n",
    "                    {'userId':J}\n",
    "                ]\n",
    "            }\n",
    "        },\n",
    "        {\n",
    "            '$group':{\n",
    "                '_id':'$movieId',\n",
    "                'count':{'$sum':1}\n",
    "            }\n",
    "        }\n",
    "    ])\n",
    "    union_IJ=0\n",
    "    for i in union:\n",
    "        union_IJ+=1\n",
    "    \n",
    "    intersection=db.ratings.aggregate([\n",
    "        {\n",
    "            '$match':{\n",
    "                '$or':[\n",
    "                    {'userId':I},\n",
    "                    {'userId':J}\n",
    "                ]\n",
    "            }\n",
    "        },\n",
    "        {\n",
    "            '$group':{\n",
    "                '_id':'$movieId',\n",
    "                'count':{'$sum':1}\n",
    "            }\n",
    "        },\n",
    "        {\n",
    "            '$match':{\n",
    "                'count':{'$eq':2}\n",
    "            }\n",
    "        }\n",
    "    ])\n",
    "    intersection_IJ=0\n",
    "    for i in intersection:\n",
    "        intersection_IJ+=1\n",
    "    \n",
    "    return union_IJ-intersection_IJ"
   ]
  },
  {
   "cell_type": "code",
   "execution_count": 145,
   "id": "e244f66a",
   "metadata": {},
   "outputs": [
    {
     "data": {
      "text/plain": [
       "246"
      ]
     },
     "execution_count": 145,
     "metadata": {},
     "output_type": "execute_result"
    }
   ],
   "source": [
    "dissimilarity(1,2)"
   ]
  },
  {
   "cell_type": "code",
   "execution_count": 26,
   "id": "25519a0c",
   "metadata": {},
   "outputs": [],
   "source": [
    "m=162541"
   ]
  },
  {
   "cell_type": "markdown",
   "id": "9701bb35",
   "metadata": {},
   "source": [
    "##### def summation_similarity_I(I):\n",
    "#####     summation=0\n",
    "#####     for i in range(1,m+1):\n",
    "#####         summation+=similarity(I,i)\n",
    "#####     return summation \n",
    "##### 무지성으로 코딩을하니 존나 오래걸렸다 mapreduce가 강제되는데 이걸 어캐하냐 "
   ]
  },
  {
   "cell_type": "code",
   "execution_count": 50,
   "id": "6b7a9f5f",
   "metadata": {},
   "outputs": [],
   "source": [
    "mapper=Code('''\n",
    "    function() {\n",
    "        emit(this.movieId,1);\n",
    "    };\n",
    "''')"
   ]
  },
  {
   "cell_type": "code",
   "execution_count": 51,
   "id": "403d8462",
   "metadata": {},
   "outputs": [],
   "source": [
    "reducer=Code('''\n",
    "    function(key,values) {\n",
    "        var total=0;\n",
    "        for(var i=0;i<values.length;i++){\n",
    "            total+=values[i];\n",
    "        }\n",
    "        return total;\n",
    "    };\n",
    "''')"
   ]
  },
  {
   "cell_type": "code",
   "execution_count": 52,
   "id": "2e361f45",
   "metadata": {},
   "outputs": [
    {
     "data": {
      "text/plain": [
       "Collection(Database(MongoClient(host=['localhost:27017'], document_class=dict, tz_aware=False, connect=True), 'movie_lens'), 'movie_collector')"
      ]
     },
     "execution_count": 52,
     "metadata": {},
     "output_type": "execute_result"
    }
   ],
   "source": [
    "db.ratings.map_reduce(mapper,reducer,'movie_collector')"
   ]
  },
  {
   "cell_type": "code",
   "execution_count": 146,
   "id": "2a9cb343",
   "metadata": {},
   "outputs": [],
   "source": [
    "def summation_similarity_I(I):\n",
    "    cur=db.ratings.aggregate([\n",
    "        {\n",
    "            '$match':{'userId':I}\n",
    "        },\n",
    "        {\n",
    "            '$lookup':{\n",
    "                'from':'movie_collector',\n",
    "                'localField':'movieId',\n",
    "                'foreignField':'_id',\n",
    "                'as':'counting'\n",
    "            }\n",
    "        },\n",
    "        {\n",
    "            '$project':{\n",
    "                'userId':1,\n",
    "                'movieId':1,\n",
    "                'counting':'$counting.value'          \n",
    "            }     \n",
    "        },\n",
    "        {\n",
    "            '$unwind':'$counting'\n",
    "        },\n",
    "        {\n",
    "            \"$group\": {\n",
    "                \"_id\": \"$userId\",\n",
    "                \"count\": {\n",
    "                    \"$sum\": '$counting'\n",
    "                }\n",
    "            }\n",
    "        }]\n",
    "    )\n",
    "    return list(cur)[0]['count']"
   ]
  },
  {
   "cell_type": "code",
   "execution_count": 147,
   "id": "bcc7b5c0",
   "metadata": {},
   "outputs": [
    {
     "data": {
      "text/plain": [
       "float"
      ]
     },
     "execution_count": 147,
     "metadata": {},
     "output_type": "execute_result"
    }
   ],
   "source": [
    "type(summation_similarity_I(1))"
   ]
  },
  {
   "cell_type": "code",
   "execution_count": 148,
   "id": "b3d665da",
   "metadata": {},
   "outputs": [
    {
     "data": {
      "text/plain": [
       "int"
      ]
     },
     "execution_count": 148,
     "metadata": {},
     "output_type": "execute_result"
    }
   ],
   "source": [
    "type(similarity(1,2))"
   ]
  },
  {
   "cell_type": "code",
   "execution_count": 149,
   "id": "3876e976",
   "metadata": {},
   "outputs": [],
   "source": [
    "def hat_similarity_IJ(I,J):\n",
    "    return similarity(I,J)/summation_similarity_I(I)"
   ]
  },
  {
   "cell_type": "code",
   "execution_count": 150,
   "id": "a84f63d7",
   "metadata": {},
   "outputs": [
    {
     "data": {
      "text/plain": [
       "6.65347061661039e-06"
      ]
     },
     "execution_count": 150,
     "metadata": {},
     "output_type": "execute_result"
    }
   ],
   "source": [
    "hat_similarity_IJ(1,2)"
   ]
  },
  {
   "cell_type": "code",
   "execution_count": null,
   "id": "1371effb",
   "metadata": {},
   "outputs": [],
   "source": []
  }
 ],
 "metadata": {
  "kernelspec": {
   "display_name": "Python 3",
   "language": "python",
   "name": "python3"
  },
  "language_info": {
   "codemirror_mode": {
    "name": "ipython",
    "version": 3
   },
   "file_extension": ".py",
   "mimetype": "text/x-python",
   "name": "python",
   "nbconvert_exporter": "python",
   "pygments_lexer": "ipython3",
   "version": "3.8.8"
  }
 },
 "nbformat": 4,
 "nbformat_minor": 5
}
