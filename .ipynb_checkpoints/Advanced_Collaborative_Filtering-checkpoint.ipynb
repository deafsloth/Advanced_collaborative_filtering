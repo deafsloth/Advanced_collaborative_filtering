{
 "cells": [
  {
   "cell_type": "code",
   "execution_count": 1,
   "id": "b731bc1f",
   "metadata": {},
   "outputs": [],
   "source": [
    "import pandas as pd\n",
    "from pymongo import MongoClient\n",
    "from bson.son import SON\n",
    "from bson.code import Code\n",
    "import re\n",
    "import pprint\n",
    "\n",
    "\n",
    "client = MongoClient('localhost',27017)\n",
    "db = client.movie_lens"
   ]
  },
  {
   "cell_type": "code",
   "execution_count": 2,
   "id": "9b8eeb59",
   "metadata": {},
   "outputs": [
    {
     "name": "stdout",
     "output_type": "stream",
     "text": [
      "['tags', 'links', 'genre_count', 'tag_count', 'genome_tags', 'movies', 'avg_ratings', 'ratings', 'genome_scores']\n"
     ]
    }
   ],
   "source": [
    "print(db.list_collection_names())"
   ]
  },
  {
   "cell_type": "code",
   "execution_count": 21,
   "id": "2052cd4a",
   "metadata": {},
   "outputs": [],
   "source": [
    "def similarity(I,J):\n",
    "    similarity=db.ratings.aggregate([\n",
    "        {\n",
    "            '$match':{\n",
    "                '$or':[\n",
    "                    {'userId':I},\n",
    "                    {'userId':J}\n",
    "                ]\n",
    "            }\n",
    "        },\n",
    "        {\n",
    "            '$group':{\n",
    "                '_id':'$movieId',\n",
    "                'count':{'$sum':1}\n",
    "            }\n",
    "        },\n",
    "        {\n",
    "            '$match':{\n",
    "                'count':{'$eq':2}\n",
    "            }\n",
    "        }\n",
    "    ])\n",
    "    count=0\n",
    "    for i in similarity:\n",
    "        count+=1\n",
    "    return count\n"
   ]
  },
  {
   "cell_type": "code",
   "execution_count": 22,
   "id": "993dcf3c",
   "metadata": {},
   "outputs": [
    {
     "data": {
      "text/plain": [
       "4"
      ]
     },
     "execution_count": 22,
     "metadata": {},
     "output_type": "execute_result"
    }
   ],
   "source": [
    "similarity(1,2)"
   ]
  },
  {
   "cell_type": "code",
   "execution_count": 23,
   "id": "5af48f61",
   "metadata": {},
   "outputs": [],
   "source": [
    "def dissimilarity(I,J):\n",
    "    union=db.ratings.aggregate([\n",
    "        {\n",
    "            '$match':{\n",
    "                '$or':[\n",
    "                    {'userId':I},\n",
    "                    {'userId':J}\n",
    "                ]\n",
    "            }\n",
    "        },\n",
    "        {\n",
    "            '$group':{\n",
    "                '_id':'$movieId',\n",
    "                'count':{'$sum':1}\n",
    "            }\n",
    "        }\n",
    "    ])\n",
    "    union_IJ=0\n",
    "    for i in union:\n",
    "        union_IJ+=1\n",
    "    \n",
    "    intersection=db.ratings.aggregate([\n",
    "        {\n",
    "            '$match':{\n",
    "                '$or':[\n",
    "                    {'userId':I},\n",
    "                    {'userId':J}\n",
    "                ]\n",
    "            }\n",
    "        },\n",
    "        {\n",
    "            '$group':{\n",
    "                '_id':'$movieId',\n",
    "                'count':{'$sum':1}\n",
    "            }\n",
    "        },\n",
    "        {\n",
    "            '$match':{\n",
    "                'count':{'$eq':2}\n",
    "            }\n",
    "        }\n",
    "    ])\n",
    "    intersection_IJ=0\n",
    "    for i in intersection:\n",
    "        intersection_IJ+=1\n",
    "    \n",
    "    return union_IJ-intersection_IJ"
   ]
  },
  {
   "cell_type": "code",
   "execution_count": 24,
   "id": "956e691b",
   "metadata": {},
   "outputs": [
    {
     "data": {
      "text/plain": [
       "246"
      ]
     },
     "execution_count": 24,
     "metadata": {},
     "output_type": "execute_result"
    }
   ],
   "source": [
    "dissimilarity(1,2)"
   ]
  },
  {
   "cell_type": "code",
   "execution_count": null,
   "id": "9796dce2",
   "metadata": {},
   "outputs": [],
   "source": []
  }
 ],
 "metadata": {
  "kernelspec": {
   "display_name": "Python 3",
   "language": "python",
   "name": "python3"
  },
  "language_info": {
   "codemirror_mode": {
    "name": "ipython",
    "version": 3
   },
   "file_extension": ".py",
   "mimetype": "text/x-python",
   "name": "python",
   "nbconvert_exporter": "python",
   "pygments_lexer": "ipython3",
   "version": "3.8.8"
  }
 },
 "nbformat": 4,
 "nbformat_minor": 5
}
