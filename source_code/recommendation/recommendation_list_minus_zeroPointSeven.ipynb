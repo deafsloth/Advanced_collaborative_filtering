{
 "cells": [
  {
   "cell_type": "code",
   "execution_count": 1,
   "id": "4e31befc",
   "metadata": {},
   "outputs": [
    {
     "name": "stdout",
     "output_type": "stream",
     "text": [
      "['precision_metric_lambda_minus_zeroPointSeven', 'recommendation_lambda_plus_zeroPointFour', 'precision_metric_lambda_minus_zeroPointOne', 'precision_metric_lambda_minus_zeroPointThree', 'recommendation_lambda_plus_zeroPointTwo', 'recommendation_lambda_minus_zeroPointTwo', 'train_set', 'recommendation_lambda_minus_onePointOne', 'train_user_movies', 'precision_metric_lambda_minus_One', 'precision_metric_lambda_plus_zeroPointThree', 'precision_metric_lambda_minus_onePointFive', 'recommendation_lambda_minus_zeroPointSix', 'precision_metric_lambda_minus_onePointOne', 'recommendation_lambda_minus_zeroPointOne', 'precision_metric_lambda_minus_zeroPointEight', 'precision_metric_lambda_minus_onePointTwo', 'recommendation_lambda_plus_zeroPointOne', 'recommendation_lambda_minus_zeroPointFour', 'recommendation_scores', 'recommendation_lambda_minus_zeroPointNine', 'recommendation_lambda_minus_onePointFive', 'precision_metric_lambda_minus_onePointThree', 'precision_metric_lambda_minus_onePointFour', 'recommendation_lambda_minus_zeroPointFive', 'precision_metric_lambda_plus_zeroPointFive', 'recommendation_lambda_minus_onePointFour', 'precision_metric_lambda_plus_zeroPointTwo', 'precision_metric_lambda_plus_zeroPointFour', 'recommendation_lambda_minus_onePointTwo', 'recommendation_lambda_minus_zeroPointThree', 'precision_metric_lambda_Zero', 'recommendation_lambda_Zero', 'precision_metric_lambda_plus_zeroPointOne', 'recommendation_lambda_minus_onePointThree', 'recommendation_lambda_minus_zeroPointSeven', 'precision_metric_lambda_minus_zeroPointNine', 'precision_metric_lambda_minus_zeroPointSix', 'recommendation_lambda_minus_zeroPointEight', 'recommendation_lambda_minus_One', 'prove_set', 'recommendation_lambda_plus_zeroPointFive', 'precision_metric_lambda_minus_zeroPointTwo', 'ratings', 'recommendation_lambda_plus_zeroPointThree', 'precision_metric_lambda_minus_zeroPointFour', 'precision_metric_lambda_minus_zeroPointFive', 'lab']\n"
     ]
    }
   ],
   "source": [
    "import pandas as pd\n",
    "from pymongo import MongoClient\n",
    "from bson.son import SON\n",
    "from bson.code import Code\n",
    "import re\n",
    "import pprint\n",
    "import bson\n",
    "\n",
    "client = MongoClient('localhost',27017)\n",
    "db = client.recommandation_db\n",
    "print(db.list_collection_names())"
   ]
  },
  {
   "cell_type": "code",
   "execution_count": 2,
   "id": "81cef113",
   "metadata": {},
   "outputs": [],
   "source": [
    "cur=db.train_user_movies.aggregate([\n",
    "    {'$sort':{\n",
    "        '_id':1\n",
    "    }},\n",
    "    {\n",
    "        '$project':{\n",
    "            '_id':1\n",
    "        }\n",
    "    }\n",
    "])\n",
    "user_list=list(cur)"
   ]
  },
  {
   "cell_type": "code",
   "execution_count": 3,
   "id": "eda339cd",
   "metadata": {},
   "outputs": [],
   "source": [
    "user_list[145]['_id']\n",
    "L=50"
   ]
  },
  {
   "cell_type": "code",
   "execution_count": 4,
   "id": "619921f9",
   "metadata": {},
   "outputs": [],
   "source": [
    "def recommendation_list_minus_zeroPointSeven(user_i,L,Lambda):\n",
    "    cur=db.recommendation_scores.aggregate([\n",
    "        {\n",
    "            '$match':{'user_I':user_i}\n",
    "        },\n",
    "        {\n",
    "            '$project':{\n",
    "                'movieId':1,\n",
    "                'user_I':1,\n",
    "                'negative_score_lambda':{'$multiply':['$negative_score',Lambda]},\n",
    "                'positive_score':1\n",
    "            }\n",
    "        },\n",
    "        {\n",
    "            '$project':{\n",
    "                'recommendation_score':{'$add':['$negative_score_lambda','$positive_score']},\n",
    "                'user_I':1,\n",
    "                'movieId':1,\n",
    "                'negative_score_lambda':1,\n",
    "                'positive_score':1,\n",
    "            }\n",
    "        },\n",
    "        {'$sort':{'recommendation_score':-1}},\n",
    "        {'$limit':L},\n",
    "        {'$merge':'recommendation_lambda_minus_zeroPointSeven'}\n",
    "    ])"
   ]
  },
  {
   "cell_type": "code",
   "execution_count": 5,
   "id": "82330035",
   "metadata": {},
   "outputs": [],
   "source": [
    "for i in range(1000,2000):\n",
    "    recommendation_list_minus_zeroPointSeven(user_list[i]['_id'],L,-0.7)"
   ]
  },
  {
   "cell_type": "code",
   "execution_count": null,
   "id": "3a882e6d",
   "metadata": {},
   "outputs": [],
   "source": []
  }
 ],
 "metadata": {
  "kernelspec": {
   "display_name": "Python 3",
   "language": "python",
   "name": "python3"
  },
  "language_info": {
   "codemirror_mode": {
    "name": "ipython",
    "version": 3
   },
   "file_extension": ".py",
   "mimetype": "text/x-python",
   "name": "python",
   "nbconvert_exporter": "python",
   "pygments_lexer": "ipython3",
   "version": "3.8.8"
  }
 },
 "nbformat": 4,
 "nbformat_minor": 5
}
