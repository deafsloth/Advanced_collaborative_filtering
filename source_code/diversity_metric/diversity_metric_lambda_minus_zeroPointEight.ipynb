{
 "cells": [
  {
   "cell_type": "code",
   "execution_count": 1,
   "id": "f762f95b",
   "metadata": {},
   "outputs": [],
   "source": [
    "from pymongo import MongoClient\n",
    "client = MongoClient('localhost',27017)\n",
    "db = client.recommandation_db"
   ]
  },
  {
   "cell_type": "code",
   "execution_count": 2,
   "id": "e51c78e5",
   "metadata": {},
   "outputs": [],
   "source": [
    "def diversity_metric_lambda_minus_zeroPointEight(numberOfUsers,L):\n",
    "    cur=db.recommendation_lambda_minus_zeroPointEight.aggregate([\n",
    "        {\n",
    "            '$group':{\n",
    "                '_id':'$movieId',\n",
    "                'numUsers':{'$sum':1}\n",
    "            }\n",
    "        },\n",
    "        {\n",
    "            '$project':{\n",
    "                'numUsers':{'$multiply':['$numUsers',{'$subtract':['$numUsers',1]}]},\n",
    "            }\n",
    "        },\n",
    "        {\n",
    "            '$group':{\n",
    "                '_id':'',\n",
    "                'total_N_ij':{'$sum':'$numUsers'}\n",
    "            }\n",
    "        },\n",
    "    ])\n",
    "    a=list(cur)\n",
    "    total_N_ij=a[0]['total_N_ij']\n",
    "    allPairs=numberOfUsers*(numberOfUsers-1)\n",
    "    total_N_ij/=L\n",
    "    H_ij=allPairs-total_N_ij\n",
    "    return H_ij/allPairs"
   ]
  },
  {
   "cell_type": "code",
   "execution_count": 3,
   "id": "507b7cfe",
   "metadata": {},
   "outputs": [],
   "source": [
    "numberOfUsers=2000\n",
    "L=50"
   ]
  },
  {
   "cell_type": "code",
   "execution_count": 4,
   "id": "8a3b9306",
   "metadata": {},
   "outputs": [
    {
     "data": {
      "text/plain": [
       "0.5567542571285643"
      ]
     },
     "execution_count": 4,
     "metadata": {},
     "output_type": "execute_result"
    }
   ],
   "source": [
    "diversity_metric_lambda_minus_zeroPointEight(numberOfUsers,L)"
   ]
  },
  {
   "cell_type": "code",
   "execution_count": null,
   "id": "aaa64270",
   "metadata": {},
   "outputs": [],
   "source": []
  }
 ],
 "metadata": {
  "kernelspec": {
   "display_name": "Python 3",
   "language": "python",
   "name": "python3"
  },
  "language_info": {
   "codemirror_mode": {
    "name": "ipython",
    "version": 3
   },
   "file_extension": ".py",
   "mimetype": "text/x-python",
   "name": "python",
   "nbconvert_exporter": "python",
   "pygments_lexer": "ipython3",
   "version": "3.8.8"
  }
 },
 "nbformat": 4,
 "nbformat_minor": 5
}
