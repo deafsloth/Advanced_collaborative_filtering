{
 "cells": [
  {
   "cell_type": "code",
   "execution_count": 7,
   "id": "a17483c0",
   "metadata": {},
   "outputs": [],
   "source": [
    "from pymongo import MongoClient\n",
    "client = MongoClient('localhost',27017)\n",
    "db = client.recommandation_db"
   ]
  },
  {
   "cell_type": "code",
   "execution_count": 3,
   "id": "821c8dc5",
   "metadata": {},
   "outputs": [],
   "source": [
    "prove_set=db.ratings.aggregate([\n",
    "    {\n",
    "        '$match':{'rating':{'$gte':4.5}}\n",
    "    },\n",
    "    {\n",
    "        '$match':{\n",
    "            '$expr':{\n",
    "                '$lt':[0.8,{'$rand':{}}]\n",
    "            }\n",
    "        }\n",
    "    },\n",
    "    {\n",
    "        '$out':'prove_set'\n",
    "    }\n",
    "])"
   ]
  },
  {
   "cell_type": "code",
   "execution_count": 2,
   "id": "45f4c733",
   "metadata": {},
   "outputs": [
    {
     "data": {
      "text/plain": [
       "1163719"
      ]
     },
     "execution_count": 2,
     "metadata": {},
     "output_type": "execute_result"
    }
   ],
   "source": [
    "db.command('collstats','prove_set')['count']"
   ]
  },
  {
   "cell_type": "code",
   "execution_count": 3,
   "id": "ff83d61a",
   "metadata": {},
   "outputs": [],
   "source": [
    "train_set=db.ratings.aggregate([\n",
    "    {\n",
    "        '$match':{'rating':{'$gte':4.5}}\n",
    "    },\n",
    "    {\n",
    "        '$lookup':\n",
    "        {\n",
    "            'from':'prove_set',\n",
    "            'localField':'_id',\n",
    "            'foreignField':'_id',\n",
    "            'as':'prove_set'\n",
    "        },\n",
    "    },\n",
    "    {\n",
    "        '$project': \n",
    "        { \n",
    "            'userId': 1, \n",
    "            'movieId': 1,\n",
    "            'rating': 1,\n",
    "            'timestamp': 1,\n",
    "            'isAnyTrue': {'$anyElementTrue': [\"$prove_set\"]}, \n",
    "        }\n",
    "    },\n",
    "    {\n",
    "        '$match':{'isAnyTrue':False}\n",
    "    },\n",
    "    {\n",
    "        '$out':'train_set'\n",
    "    }\n",
    "])"
   ]
  },
  {
   "cell_type": "code",
   "execution_count": 4,
   "id": "efa1fc62",
   "metadata": {},
   "outputs": [
    {
     "data": {
      "text/plain": [
       "4649294"
      ]
     },
     "execution_count": 4,
     "metadata": {},
     "output_type": "execute_result"
    }
   ],
   "source": [
    "db.command('collstats','train_set')['count']"
   ]
  },
  {
   "cell_type": "code",
   "execution_count": 5,
   "id": "5e40cb37",
   "metadata": {},
   "outputs": [
    {
     "data": {
      "text/plain": [
       "1163719"
      ]
     },
     "execution_count": 5,
     "metadata": {},
     "output_type": "execute_result"
    }
   ],
   "source": [
    "db.command('collstats','prove_set')['count']"
   ]
  },
  {
   "cell_type": "code",
   "execution_count": null,
   "id": "24a7db30",
   "metadata": {},
   "outputs": [],
   "source": []
  }
 ],
 "metadata": {
  "kernelspec": {
   "display_name": "Python 3",
   "language": "python",
   "name": "python3"
  },
  "language_info": {
   "codemirror_mode": {
    "name": "ipython",
    "version": 3
   },
   "file_extension": ".py",
   "mimetype": "text/x-python",
   "name": "python",
   "nbconvert_exporter": "python",
   "pygments_lexer": "ipython3",
   "version": "3.8.8"
  }
 },
 "nbformat": 4,
 "nbformat_minor": 5
}
