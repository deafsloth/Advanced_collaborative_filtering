{
 "cells": [
  {
   "cell_type": "code",
   "execution_count": 8,
   "id": "832ff15d",
   "metadata": {},
   "outputs": [],
   "source": [
    "from pymongo import MongoClient\n",
    "from bson.son import SON\n",
    "from bson.code import Code\n",
    "\n",
    "client = MongoClient('localhost',27017)\n",
    "db = client.movie_lens"
   ]
  },
  {
   "cell_type": "code",
   "execution_count": 10,
   "id": "819c0ee8",
   "metadata": {},
   "outputs": [],
   "source": [
    "def similarity(I,J):\n",
    "    intersection=db.ratings.aggregate([\n",
    "        {\n",
    "            '$match':{\n",
    "                '$or':[\n",
    "                    {'userId':I},\n",
    "                    {'userId':J}\n",
    "                ]\n",
    "            }\n",
    "        },\n",
    "        {\n",
    "            '$group':{\n",
    "                '_id':'$movieId',\n",
    "                'count':{'$sum':1}\n",
    "            }\n",
    "        },\n",
    "        {\n",
    "            '$match':{\n",
    "                'count':{'$eq':2}\n",
    "            }\n",
    "        }\n",
    "    ])\n",
    "    count=0\n",
    "    for i in intersection:\n",
    "        count+=1\n",
    "    return count"
   ]
  },
  {
   "cell_type": "code",
   "execution_count": 42,
   "id": "2d39a0a6",
   "metadata": {},
   "outputs": [
    {
     "data": {
      "text/plain": [
       "4"
      ]
     },
     "execution_count": 42,
     "metadata": {},
     "output_type": "execute_result"
    }
   ],
   "source": [
    "similarity(1,2)"
   ]
  },
  {
   "cell_type": "code",
   "execution_count": 12,
   "id": "f022ad27",
   "metadata": {},
   "outputs": [],
   "source": [
    "def dissimilarity(I,J):\n",
    "    union=db.ratings.aggregate([\n",
    "        {\n",
    "            '$match':{\n",
    "                '$or':[\n",
    "                    {'userId':I},\n",
    "                    {'userId':J}\n",
    "                ]\n",
    "            }\n",
    "        },\n",
    "        {\n",
    "            '$group':{\n",
    "                '_id':'$movieId',\n",
    "                'count':{'$sum':1}\n",
    "            }\n",
    "        }\n",
    "    ])\n",
    "    union_IJ=0\n",
    "    for i in union:\n",
    "        union_IJ+=1\n",
    "    \n",
    "    intersection=db.ratings.aggregate([\n",
    "        {\n",
    "            '$match':{\n",
    "                '$or':[\n",
    "                    {'userId':I},\n",
    "                    {'userId':J}\n",
    "                ]\n",
    "            }\n",
    "        },\n",
    "        {\n",
    "            '$group':{\n",
    "                '_id':'$movieId',\n",
    "                'count':{'$sum':1}\n",
    "            }\n",
    "        },\n",
    "        {\n",
    "            '$match':{\n",
    "                'count':{'$eq':2}\n",
    "            }\n",
    "        }\n",
    "    ])\n",
    "    intersection_IJ=0\n",
    "    for i in intersection:\n",
    "        intersection_IJ+=1\n",
    "    \n",
    "    return union_IJ-intersection_IJ"
   ]
  },
  {
   "cell_type": "code",
   "execution_count": 43,
   "id": "e4aba4b5",
   "metadata": {},
   "outputs": [
    {
     "data": {
      "text/plain": [
       "246"
      ]
     },
     "execution_count": 43,
     "metadata": {},
     "output_type": "execute_result"
    }
   ],
   "source": [
    "dissimilarity(1,2)"
   ]
  },
  {
   "cell_type": "code",
   "execution_count": 15,
   "id": "1058f691",
   "metadata": {},
   "outputs": [],
   "source": [
    "# mapper=Code('''\n",
    "#     function() {\n",
    "#         emit(this.movieId,1);\n",
    "#     };\n",
    "# ''')"
   ]
  },
  {
   "cell_type": "code",
   "execution_count": 16,
   "id": "84e657f3",
   "metadata": {},
   "outputs": [],
   "source": [
    "# reducer=Code('''\n",
    "#     function(key,values) {\n",
    "#         var total=0;\n",
    "#         for(var i=0;i<values.length;i++){\n",
    "#             total+=values[i];\n",
    "#         }\n",
    "#         return total;\n",
    "#     };\n",
    "# ''')"
   ]
  },
  {
   "cell_type": "code",
   "execution_count": 17,
   "id": "6dbe3d16",
   "metadata": {},
   "outputs": [],
   "source": [
    "# db.ratings.map_reduce(mapper,reducer,'movie_collector')"
   ]
  },
  {
   "cell_type": "code",
   "execution_count": 19,
   "id": "e59b91b3",
   "metadata": {},
   "outputs": [],
   "source": [
    "def summation_similarity_I(I):\n",
    "    cur=db.ratings.aggregate([\n",
    "        {\n",
    "            '$match':{'userId':I}\n",
    "        },\n",
    "        {\n",
    "            '$lookup':{\n",
    "                'from':'movie_collector',\n",
    "                'localField':'movieId',\n",
    "                'foreignField':'_id',\n",
    "                'as':'counting'\n",
    "            }\n",
    "        },\n",
    "        {\n",
    "            '$project':{\n",
    "                'userId':1,\n",
    "                'movieId':1,\n",
    "                'counting':'$counting.value'          \n",
    "            }     \n",
    "        },\n",
    "        {\n",
    "            '$unwind':'$counting'\n",
    "        },\n",
    "        {\n",
    "            \"$group\": {\n",
    "                \"_id\": \"$userId\",\n",
    "                \"count\": {\n",
    "                    \"$sum\": '$counting'\n",
    "                }\n",
    "            }\n",
    "        }]\n",
    "    )\n",
    "    return list(cur)[0]['count']"
   ]
  },
  {
   "cell_type": "code",
   "execution_count": 20,
   "id": "ba016344",
   "metadata": {},
   "outputs": [],
   "source": [
    "def hat_similarity_IJ(I,J):\n",
    "    return similarity(I,J)/summation_similarity_I(I)"
   ]
  },
  {
   "cell_type": "code",
   "execution_count": 44,
   "id": "4e9833d0",
   "metadata": {},
   "outputs": [
    {
     "data": {
      "text/plain": [
       "6.65347061661039e-06"
      ]
     },
     "execution_count": 44,
     "metadata": {},
     "output_type": "execute_result"
    }
   ],
   "source": [
    "hat_similarity_IJ(1,2)"
   ]
  },
  {
   "cell_type": "code",
   "execution_count": 22,
   "id": "19986187",
   "metadata": {},
   "outputs": [],
   "source": [
    "def gamma_I(I):    \n",
    "    cur=db.ratings.aggregate([\n",
    "        {\n",
    "            '$match':{'userId':I}\n",
    "        },\n",
    "        {\n",
    "            '$group':{\n",
    "                '_id':'$userId',\n",
    "                'count':{\n",
    "                    '$sum':1\n",
    "                }\n",
    "            }\n",
    "        }\n",
    "    ])\n",
    "    gamma_I=list(cur)[0]['count']\n",
    "    return gamma_I"
   ]
  },
  {
   "cell_type": "code",
   "execution_count": 25,
   "id": "ad28effe",
   "metadata": {},
   "outputs": [],
   "source": [
    "cur=db.ratings.aggregate([\n",
    "    {\n",
    "        '$group':{\n",
    "            '_id':'$userId'\n",
    "        }\n",
    "    },\n",
    "    {\n",
    "        '$group':{\n",
    "            '_id':'null',\n",
    "            'count':{\n",
    "                '$sum':1\n",
    "            }\n",
    "        }\n",
    "    },\n",
    "    {\n",
    "        '$sort':{'_id':1}\n",
    "    }\n",
    "])\n",
    "num_users=list(cur)[0]['count']"
   ]
  },
  {
   "cell_type": "code",
   "execution_count": 26,
   "id": "f47185d6",
   "metadata": {},
   "outputs": [
    {
     "name": "stdout",
     "output_type": "stream",
     "text": [
      "162541\n"
     ]
    }
   ],
   "source": [
    "print(num_users)"
   ]
  },
  {
   "cell_type": "code",
   "execution_count": 27,
   "id": "e920c06c",
   "metadata": {},
   "outputs": [],
   "source": [
    "cur=db.ratings.aggregate([\n",
    "    {\n",
    "        '$group':{\n",
    "            '_id':'null',\n",
    "            'count':{\n",
    "                '$sum':1\n",
    "            }\n",
    "        }\n",
    "    }\n",
    "])\n",
    "num_ratings=list(cur)[0]['count']"
   ]
  },
  {
   "cell_type": "code",
   "execution_count": 28,
   "id": "39ce6f87",
   "metadata": {},
   "outputs": [
    {
     "name": "stdout",
     "output_type": "stream",
     "text": [
      "25000095\n"
     ]
    }
   ],
   "source": [
    "print(num_ratings)"
   ]
  },
  {
   "cell_type": "code",
   "execution_count": 29,
   "id": "384f1ac4",
   "metadata": {},
   "outputs": [],
   "source": [
    "def summation_dissimilarity_I(I):\n",
    "    summation=0\n",
    "    summation+=(num_users*gamma_I(I))\n",
    "    summation+=num_ratings\n",
    "    summation-=(2*summation_similarity_I(I))\n",
    "    \n",
    "    return summation"
   ]
  },
  {
   "cell_type": "code",
   "execution_count": 30,
   "id": "1d82dde5",
   "metadata": {},
   "outputs": [
    {
     "data": {
      "text/plain": [
       "35175585.0"
      ]
     },
     "execution_count": 30,
     "metadata": {},
     "output_type": "execute_result"
    }
   ],
   "source": [
    "summation_dissimilarity_I(1)"
   ]
  },
  {
   "cell_type": "code",
   "execution_count": 31,
   "id": "12ead6be",
   "metadata": {},
   "outputs": [],
   "source": [
    "def hat_dissimilarity_IJ(I,J):\n",
    "    return dissimilarity(I,J)/summation_dissimilarity_I(I)"
   ]
  },
  {
   "cell_type": "code",
   "execution_count": 32,
   "id": "f6c6aba0",
   "metadata": {},
   "outputs": [
    {
     "data": {
      "text/plain": [
       "6.993487101920266e-06"
      ]
     },
     "execution_count": 32,
     "metadata": {},
     "output_type": "execute_result"
    }
   ],
   "source": [
    "hat_dissimilarity_IJ(1,2)"
   ]
  },
  {
   "cell_type": "code",
   "execution_count": 39,
   "id": "9c98d824",
   "metadata": {},
   "outputs": [],
   "source": [
    "def summation_hat_similarity(I,alpha):\n",
    "    db.movie_to_users.aggregate([\n",
    "        {\n",
    "            '$match':{'_id':alpha}\n",
    "        },\n",
    "        {\n",
    "            '$unwind':'$value'\n",
    "        },\n",
    "        {\n",
    "            '$unwind':'$value'\n",
    "        },\n",
    "        {\n",
    "            '$project':\n",
    "            {\n",
    "                'alpha':'$_id',\n",
    "                'userId':'$value',\n",
    "                '_id':0\n",
    "            }\n",
    "        },\n",
    "        {\n",
    "            '$lookup':\n",
    "            {\n",
    "                'from':'user_to_movies',\n",
    "                'localField':'userId',\n",
    "                'foreignField':'_id',\n",
    "                'as':'J_movie_list'\n",
    "            }\n",
    "        },\n",
    "        {\n",
    "            '$project':\n",
    "            {\n",
    "                'alpha':1,\n",
    "                'user_J':'$userId',\n",
    "                'J_movie_list':'$J_movie_list.value',\n",
    "            }\n",
    "        },\n",
    "        {\n",
    "            '$unwind':'$J_movie_list'\n",
    "        },\n",
    "        {\n",
    "            '$unwind':'$J_movie_list'\n",
    "        },\n",
    "        {\n",
    "            '$unwind':'$J_movie_list'\n",
    "        },\n",
    "        {\n",
    "            '$group':\n",
    "            {\n",
    "                '_id':'$J_movie_list',\n",
    "                'movieCount':{'$sum':1},\n",
    "            }\n",
    "        },\n",
    "        {\n",
    "            '$project':\n",
    "            {\n",
    "                'movieId':'$_id',\n",
    "                'movieCount':1,\n",
    "            }\n",
    "        },\n",
    "        {\n",
    "            '$out':'temp_coll'\n",
    "        }\n",
    "    ])\n",
    "    cur=db.user_to_movies.aggregate([\n",
    "        {\n",
    "            '$match':{'_id':I}\n",
    "        },\n",
    "        {\n",
    "            '$unwind':'$value'\n",
    "        },\n",
    "        {\n",
    "            '$unwind':'$value'\n",
    "        },\n",
    "        {\n",
    "            '$lookup':\n",
    "            {\n",
    "                'from':'temp_coll',\n",
    "                'localField':'value',\n",
    "                'foreignField':'_id',\n",
    "                'as':'Count'\n",
    "            }\n",
    "        },\n",
    "        {\n",
    "            '$unwind':'$Count'\n",
    "        },\n",
    "        {\n",
    "            '$group':\n",
    "            {\n",
    "                '_id':'$_id',\n",
    "                'count':{\n",
    "                    '$sum':'$Count.movieCount'\n",
    "                }\n",
    "            }\n",
    "        }\n",
    "    ])\n",
    "    total_similarity=list(cur)[0]['count']\n",
    "    return total_similarity"
   ]
  },
  {
   "cell_type": "code",
   "execution_count": 40,
   "id": "87a89c95",
   "metadata": {},
   "outputs": [
    {
     "data": {
      "text/plain": [
       "430531"
      ]
     },
     "execution_count": 40,
     "metadata": {},
     "output_type": "execute_result"
    }
   ],
   "source": [
    "summation_hat_similarity(1,356)"
   ]
  },
  {
   "cell_type": "code",
   "execution_count": 46,
   "id": "109ce3e2",
   "metadata": {},
   "outputs": [],
   "source": [
    "def positive_recommendation_score(I,alpha):\n",
    "    total_similarity=summation_hat_similarity(I,alpha)\n",
    "    summation=summation_similarity_I(I)\n",
    "    db.temp_coll.drop()\n",
    "    return total_similarity/summation"
   ]
  },
  {
   "cell_type": "code",
   "execution_count": 47,
   "id": "27d7552e",
   "metadata": {},
   "outputs": [
    {
     "data": {
      "text/plain": [
       "0.7161313395099719"
      ]
     },
     "execution_count": 47,
     "metadata": {},
     "output_type": "execute_result"
    }
   ],
   "source": [
    "positive_recommendation_score(1,356)"
   ]
  },
  {
   "cell_type": "code",
   "execution_count": 48,
   "id": "b02d3271",
   "metadata": {},
   "outputs": [],
   "source": [
    "def summation_union(I,alpha):\n",
    "    cur=db.movie_to_users.aggregate([\n",
    "        {\n",
    "            '$match':{'_id':alpha}\n",
    "        },\n",
    "        {\n",
    "            '$unwind':'$value'\n",
    "        },\n",
    "        {\n",
    "            '$unwind':'$value'\n",
    "        },\n",
    "        {\n",
    "            '$project':\n",
    "            {\n",
    "                'alpha':'$_id',\n",
    "                'userId':'$value',\n",
    "                '_id':0\n",
    "            }\n",
    "        },\n",
    "        {\n",
    "            '$lookup':\n",
    "            {\n",
    "                'from':'user_to_movies',\n",
    "                'localField':'userId',\n",
    "                'foreignField':'_id',\n",
    "                'as':'J_movie_list'\n",
    "            }\n",
    "        },\n",
    "        {\n",
    "            '$project':\n",
    "            {\n",
    "                'alpha':1,\n",
    "                'user_J':'$userId',\n",
    "                'J_movie_list':'$J_movie_list.value',\n",
    "            }\n",
    "        },\n",
    "        {\n",
    "            '$unwind':'$J_movie_list'\n",
    "        },\n",
    "        {\n",
    "            '$unwind':'$J_movie_list'\n",
    "        },\n",
    "        {\n",
    "            '$unwind':'$J_movie_list'\n",
    "        },\n",
    "        {\n",
    "            '$group':\n",
    "            {\n",
    "                '_id':'$alpha',\n",
    "                'userCount':{'$sum':1},\n",
    "            }\n",
    "        },\n",
    "    ])\n",
    "    return list(cur)[0]['userCount']"
   ]
  },
  {
   "cell_type": "code",
   "execution_count": 49,
   "id": "259834a8",
   "metadata": {},
   "outputs": [],
   "source": [
    "def negative_recommendation_score(I,alpha):\n",
    "    total_similarity=summation_hat_similarity(I,alpha)\n",
    "    total_union=summation_union(I,alpha)\n",
    "    numerator=total_union-total_similarity\n",
    "    denominator=summation_dissimilarity_I(I)\n",
    "    return numerator/denominator"
   ]
  },
  {
   "cell_type": "code",
   "execution_count": 50,
   "id": "a5b1df77",
   "metadata": {},
   "outputs": [
    {
     "data": {
      "text/plain": [
       "0.5168711195563628"
      ]
     },
     "execution_count": 50,
     "metadata": {},
     "output_type": "execute_result"
    }
   ],
   "source": [
    "negative_recommendation_score(1,356)"
   ]
  },
  {
   "cell_type": "code",
   "execution_count": 52,
   "id": "fa6320e8",
   "metadata": {},
   "outputs": [],
   "source": [
    "def Advanced_Collaborative_Filtering(user_I,movie_J,lambda_):\n",
    "    positive_IJ=positive_recommendation_score(user_I,movie_J)\n",
    "    negative_IJ=negative_recommendation_score(user_I,movie_J)\n",
    "    final_score=positive_IJ+(lambda_*negative_IJ)\n",
    "    return final_score"
   ]
  },
  {
   "cell_type": "code",
   "execution_count": 54,
   "id": "a4f74a7f",
   "metadata": {},
   "outputs": [
    {
     "data": {
      "text/plain": [
       "0.25094733190924534"
      ]
     },
     "execution_count": 54,
     "metadata": {},
     "output_type": "execute_result"
    }
   ],
   "source": [
    "lambda_=-0.9\n",
    "Advanced_Collaborative_Filtering(1,356,lambda_)"
   ]
  },
  {
   "cell_type": "code",
   "execution_count": null,
   "id": "210c010f",
   "metadata": {},
   "outputs": [],
   "source": []
  }
 ],
 "metadata": {
  "kernelspec": {
   "display_name": "Python 3",
   "language": "python",
   "name": "python3"
  },
  "language_info": {
   "codemirror_mode": {
    "name": "ipython",
    "version": 3
   },
   "file_extension": ".py",
   "mimetype": "text/x-python",
   "name": "python",
   "nbconvert_exporter": "python",
   "pygments_lexer": "ipython3",
   "version": "3.8.8"
  }
 },
 "nbformat": 4,
 "nbformat_minor": 5
}
