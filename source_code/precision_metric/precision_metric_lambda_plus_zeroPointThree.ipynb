{
 "cells": [
  {
   "cell_type": "code",
   "execution_count": 1,
   "id": "5befe3d4",
   "metadata": {},
   "outputs": [
    {
     "name": "stdout",
     "output_type": "stream",
     "text": [
      "['precision_metric_lambda_minus_zeroPointSeven', 'recommendation_lambda_plus_zeroPointFour', 'precision_metric_lambda_minus_zeroPointOne', 'precision_metric_lambda_minus_zeroPointThree', 'recommendation_lambda_plus_zeroPointTwo', 'recommendation_lambda_minus_zeroPointTwo', 'train_set', 'recommendation_lambda_minus_onePointOne', 'train_user_movies', 'precision_metric_lambda_minus_One', 'precision_metric_lambda_plus_zeroPointThree', 'precision_metric_lambda_minus_onePointFive', 'recommendation_lambda_minus_zeroPointSix', 'precision_metric_lambda_minus_onePointOne', 'recommendation_lambda_minus_zeroPointOne', 'precision_metric_lambda_minus_zeroPointEight', 'precision_metric_lambda_minus_onePointTwo', 'recommendation_lambda_plus_zeroPointOne', 'recommendation_lambda_minus_zeroPointFour', 'recommendation_scores', 'recommendation_lambda_minus_zeroPointNine', 'recommendation_lambda_minus_onePointFive', 'precision_metric_lambda_minus_onePointThree', 'precision_metric_lambda_minus_onePointFour', 'recommendation_lambda_minus_zeroPointFive', 'precision_metric_lambda_plus_zeroPointFive', 'recommendation_lambda_minus_onePointFour', 'precision_metric_lambda_plus_zeroPointTwo', 'precision_metric_lambda_plus_zeroPointFour', 'recommendation_lambda_minus_onePointTwo', 'recommendation_lambda_minus_zeroPointThree', 'precision_metric_lambda_Zero', 'recommendation_lambda_Zero', 'precision_metric_lambda_plus_zeroPointOne', 'recommendation_lambda_minus_onePointThree', 'recommendation_lambda_minus_zeroPointSeven', 'precision_metric_lambda_minus_zeroPointNine', 'precision_metric_lambda_minus_zeroPointSix', 'recommendation_lambda_minus_zeroPointEight', 'recommendation_lambda_minus_One', 'prove_set', 'precision_metric_lambda_minus_zeroPointTwo', 'ratings', 'recommendation_lambda_plus_zeroPointThree', 'precision_metric_lambda_minus_zeroPointFour', 'precision_metric_lambda_minus_zeroPointFive', 'lab']\n"
     ]
    }
   ],
   "source": [
    "import pandas as pd\n",
    "from pymongo import MongoClient\n",
    "from bson.son import SON\n",
    "from bson.code import Code\n",
    "import re\n",
    "import pprint\n",
    "import bson\n",
    "\n",
    "client = MongoClient('localhost',27017)\n",
    "db = client.recommandation_db\n",
    "print(db.list_collection_names())"
   ]
  },
  {
   "cell_type": "code",
   "execution_count": 2,
   "id": "4422bd80",
   "metadata": {},
   "outputs": [],
   "source": [
    "def precision_metric_lambda_plus_zeroPointThree(userId,L):\n",
    "    cur=db.prove_set.aggregate([\n",
    "        {'$match':{'userId':userId}},\n",
    "        {'$out':'temporary'}\n",
    "    ])\n",
    "#     -------------------------------------------------------------------------------\n",
    "    cur=db.recommendation_lambda_plus_zeroPointThree.aggregate([\n",
    "        {'$match':{'user_I':userId}},\n",
    "        {\n",
    "            '$lookup':{\n",
    "                'from':'temporary',\n",
    "                'localField':'movieId',\n",
    "                'foreignField':'movieId',\n",
    "                'as':'recommendation'\n",
    "            }\n",
    "        },\n",
    "        {'$unwind':'$recommendation'},\n",
    "        {'$count':'P_50'},\n",
    "        {\n",
    "            '$addFields':{\n",
    "                'user_I':userId\n",
    "            }\n",
    "        },\n",
    "        {\n",
    "            '$project':{\n",
    "                'P_50':{'$divide':['$P_50',L]},\n",
    "                'user_I':1\n",
    "            }\n",
    "        },\n",
    "        {'$merge':'precision_metric_lambda_plus_zeroPointThree'}\n",
    "    ])\n",
    "#     -------------------------------------------------------------------------------\n",
    "    db.temporary.drop()\n"
   ]
  },
  {
   "cell_type": "code",
   "execution_count": 3,
   "id": "369dab69",
   "metadata": {},
   "outputs": [],
   "source": [
    "cur=db.train_user_movies.aggregate([\n",
    "    {'$sort':{\n",
    "        '_id':1\n",
    "    }},\n",
    "    {\n",
    "        '$project':{\n",
    "            '_id':1\n",
    "        }\n",
    "    }\n",
    "])\n",
    "user_list=list(cur)\n",
    "L=50\n"
   ]
  },
  {
   "cell_type": "code",
   "execution_count": 4,
   "id": "25ff9980",
   "metadata": {},
   "outputs": [],
   "source": [
    "for i in range(1000,2000):\n",
    "    precision_metric_lambda_plus_zeroPointThree(user_list[i]['_id'],L)"
   ]
  },
  {
   "cell_type": "code",
   "execution_count": 5,
   "id": "f3ef8e02",
   "metadata": {},
   "outputs": [],
   "source": [
    "cur=db.precision_metric_lambda_plus_zeroPointThree.aggregate([\n",
    "    {\n",
    "        '$group':{\n",
    "            '_id':'',\n",
    "            'sum_P_50':{'$sum':'$P_50'}\n",
    "        }\n",
    "    }\n",
    "])"
   ]
  },
  {
   "cell_type": "code",
   "execution_count": 6,
   "id": "ad8fef70",
   "metadata": {},
   "outputs": [
    {
     "name": "stdout",
     "output_type": "stream",
     "text": [
      "{'_id': '', 'sum_P_50': 56.94}\n"
     ]
    }
   ],
   "source": [
    "for i in cur:\n",
    "    print(i)"
   ]
  },
  {
   "cell_type": "code",
   "execution_count": 7,
   "id": "312c120a",
   "metadata": {},
   "outputs": [
    {
     "data": {
      "text/plain": [
       "0.02847"
      ]
     },
     "execution_count": 7,
     "metadata": {},
     "output_type": "execute_result"
    }
   ],
   "source": [
    "56.94/2000"
   ]
  },
  {
   "cell_type": "code",
   "execution_count": null,
   "id": "4af3243a",
   "metadata": {},
   "outputs": [],
   "source": []
  }
 ],
 "metadata": {
  "kernelspec": {
   "display_name": "Python 3",
   "language": "python",
   "name": "python3"
  },
  "language_info": {
   "codemirror_mode": {
    "name": "ipython",
    "version": 3
   },
   "file_extension": ".py",
   "mimetype": "text/x-python",
   "name": "python",
   "nbconvert_exporter": "python",
   "pygments_lexer": "ipython3",
   "version": "3.8.8"
  }
 },
 "nbformat": 4,
 "nbformat_minor": 5
}
